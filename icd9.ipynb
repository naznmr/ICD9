{
  "cells": [
    {
      "cell_type": "markdown",
      "metadata": {
        "id": "view-in-github",
        "colab_type": "text"
      },
      "source": [
        "<a href=\"https://colab.research.google.com/github/naznmr/ICD9/blob/main/icd9.ipynb\" target=\"_parent\"><img src=\"https://colab.research.google.com/assets/colab-badge.svg\" alt=\"Open In Colab\"/></a>"
      ]
    },
    {
      "cell_type": "code",
      "execution_count": null,
      "metadata": {
        "id": "V5lasniWHK0_",
        "colab": {
          "base_uri": "https://localhost:8080/"
        },
        "outputId": "711469ce-4d19-4f02-96c7-b850854c4ab7"
      },
      "outputs": [
        {
          "output_type": "stream",
          "name": "stdout",
          "text": [
            "Mounted at /content/drive\n"
          ]
        }
      ],
      "source": [
        "from google.colab import drive\n",
        "drive.mount(\"/content/drive\")"
      ]
    },
    {
      "cell_type": "code",
      "execution_count": null,
      "metadata": {
        "id": "7TvTC67ng6BP"
      },
      "outputs": [],
      "source": [
        "import pandas as pd"
      ]
    },
    {
      "cell_type": "markdown",
      "metadata": {
        "id": "d8IV3C0FilXj"
      },
      "source": [
        "تمرین 1\n",
        "بخش 1"
      ]
    },
    {
      "cell_type": "markdown",
      "source": [
        "دوتا فایل اکسل MIMIC_III چون ستون مشترک دارند را باهم ادغام میکنیم و هردو فایل در ستون ICD9_CODE مشترک اند.\n",
        "سپس ستون ICD9_CODE را ذخیرا می کنیم و مقادیر آن ستون رو به ازای هر تکرار ذخیره می کنیم.\n",
        "چون به صورت sort شده قرار می گیرد بنابراین ایندکس 0 ماکزیمم مقدار می باشد.\n",
        "برای محاسبه درصد هم مقادیر را تقسیم بر مجموع کل کرده و در 100 ضرب می کنیم.\n",
        "در نهایت با استفاده از دستور .head(10) ده تا از شایع ترین بیماری هارا چاپ می کنیم."
      ],
      "metadata": {
        "id": "jtHw0ejuZN8Y"
      }
    },
    {
      "cell_type": "code",
      "execution_count": null,
      "metadata": {
        "colab": {
          "base_uri": "https://localhost:8080/"
        },
        "id": "mNxgKWVDkiZh",
        "outputId": "1be370db-1776-4feb-f380-02cc66e33bcf"
      },
      "outputs": [
        {
          "output_type": "stream",
          "name": "stdout",
          "text": [
            "\n",
            " count of icd9 codes :  ICD9_CODE\n",
            "4019     20703\n",
            "4280     13111\n",
            "42731    12891\n",
            "41401    12429\n",
            "5849      9119\n",
            "         ...  \n",
            "53981        1\n",
            "5430         1\n",
            "55001        1\n",
            "55002        1\n",
            "V743         1\n",
            "Name: count, Length: 14567, dtype: int64\n",
            "\n",
            " max code :  4019\n",
            "\n",
            " short title :  TB pneumonia-oth test\n",
            "\n",
            " sum of counts is :  642435\n",
            "\n",
            " The percent of icd9 codes :  ICD9_CODE\n",
            "4019     3.222583\n",
            "4280     2.040829\n",
            "42731    2.006584\n",
            "41401    1.934670\n",
            "5849     1.419443\n",
            "           ...   \n",
            "53981    0.000156\n",
            "5430     0.000156\n",
            "55001    0.000156\n",
            "55002    0.000156\n",
            "V743     0.000156\n",
            "Name: count, Length: 14567, dtype: float64\n",
            "\n",
            " top 10 percent of codes :  ICD9_CODE\n",
            "4019     3.222583\n",
            "4280     2.040829\n",
            "42731    2.006584\n",
            "41401    1.934670\n",
            "5849     1.419443\n",
            "25000    1.409948\n",
            "2724     1.352666\n",
            "51881    1.166966\n",
            "5990     1.020337\n",
            "53081    0.984691\n",
            "Name: count, dtype: float64\n"
          ]
        }
      ],
      "source": [
        "MIMIC_III_ICD_path = \"/content/drive/My Drive/datasetcolab/MIMIC_III_D_ICD_DIAGNOSES.csv\" # آدرس فایل\n",
        "MIMIC_III_DIAGNOSES_path =  \"/content/drive/My Drive/datasetcolab/MIMIC_III_DIAGNOSES_ICD.csv\" # آدرس فایل\n",
        "\n",
        "icd_read = pd.read_csv(MIMIC_III_ICD_path) # خواندن فایل در آدرس مشخص شده\n",
        "diagnoses_read = pd.read_csv(MIMIC_III_DIAGNOSES_path) # خواندن فایل در آدرس مشخص شده\n",
        "\n",
        "merged_icd9 = pd.merge(icd_read, diagnoses_read, on = \"ICD9_CODE\", how = \"left\") # ادغام دو فایل باهم که در ستون ICD9_CODE مشترکند\n",
        "\n",
        "icd9_column = merged_icd9[\"ICD9_CODE\"] # ذخیره ستون ICD9_CODE در یک متغییر\n",
        "\n",
        "icd9_count = icd9_column.value_counts() # تعداد تکرار هر کد در ستون ذخیره شده\n",
        "print(\"\\n count of icd9 codes : \", icd9_count)\n",
        "\n",
        "max_code = icd9_count.index[0] # نتایج sort شده است و اولین نتیجه ماکزیمم مقدار است\n",
        "short_title = merged_icd9[\"SHORT_TITLE\"].iloc[0] # مقدار ستون SHORT_TITLE برای مشخص کردن بیماری\n",
        "print(\"\\n max code : \", max_code)\n",
        "print(\"\\n short title : \", short_title)\n",
        "\n",
        "sum_icd9 = icd9_count.sum() # جمع مقادیر ستون مشخص شده\n",
        "print(\"\\n sum of counts is : \", sum_icd9)\n",
        "\n",
        "percent = (icd9_count / sum_icd9) * 100 # محاسبه درصد هر مقدار از ستون\n",
        "print(\"\\n The percent of icd9 codes : \", percent)\n",
        "\n",
        "top_10 = percent.head(10) # انتخاب ده تا از اولین مقادیر ستون\n",
        "print(\"\\n top 10 percent of codes : \", top_10)"
      ]
    },
    {
      "cell_type": "markdown",
      "source": [
        "تمرین 1 بخش 2"
      ],
      "metadata": {
        "id": "5TzuJwIteROd"
      }
    },
    {
      "cell_type": "markdown",
      "source": [
        "بر اساس یک ستون گروه بندی کرده و مقادیر را شمرده و میانگین می گیریم"
      ],
      "metadata": {
        "id": "6q_9_N_pbch8"
      }
    },
    {
      "cell_type": "code",
      "source": [
        "visited = merged_icd9.groupby(\"HADM_ID\")[\"ICD9_CODE\"].count() # گروه بندی بر اساس ستون HADM_ID و شمارش تعداد تکرار مقادیر ستون ICD9_ID\n",
        "mean_visited = visited.mean() # میانگین داده ها\n",
        "print(\"The mean of visited : \", mean_visited)"
      ],
      "metadata": {
        "colab": {
          "base_uri": "https://localhost:8080/"
        },
        "id": "pMs1dctZeNu3",
        "outputId": "daa30056-4082-4523-f05d-6d87c073c88c"
      },
      "execution_count": null,
      "outputs": [
        {
          "output_type": "stream",
          "name": "stdout",
          "text": [
            "The mean of visited :  10.771472210436997\n"
          ]
        }
      ]
    },
    {
      "cell_type": "markdown",
      "source": [
        "تمرین 1 بخش 3"
      ],
      "metadata": {
        "id": "JWO24o-Ff5mQ"
      }
    },
    {
      "cell_type": "markdown",
      "source": [
        "توضیحات این تمرین مانند تمرین اول است و کد هم مثل تمرین بخش اول است."
      ],
      "metadata": {
        "id": "F7vViwb3B6mg"
      }
    },
    {
      "cell_type": "code",
      "source": [
        "MIMIC_IV_ICD_path = \"/content/drive/My Drive/datasetcolab/MIMIC_IV_d_icd_diagnoses.csv\"\n",
        "MIMIC_IV_DIAGNOSES_path =  \"/content/drive/My Drive/datasetcolab/MIMIC_IV_diagnoses_icd.csv\"\n",
        "\n",
        "icd_read = pd.read_csv(MIMIC_IV_ICD_path)\n",
        "diagnoses_read = pd.read_csv(MIMIC_IV_DIAGNOSES_path)\n",
        "\n",
        "merged_icd = pd.merge(icd_read, diagnoses_read, on = \"icd_code\", how = \"left\")\n",
        "\n",
        "\n",
        "icd_column = merged_icd[\"icd_code\"]\n",
        "icd_count = icd_column.value_counts()\n",
        "print(\"count of icd10 codes : \", icd_count)\n",
        "\n",
        "max_code = icd_count.index[0]\n",
        "long_title = merged_icd[\"long_title\"].iloc[0]\n",
        "print(\"\\n max code : \", max_code)\n",
        "print(\"\\n short title : \", long_title)\n",
        "\n",
        "sum_icd = icd_count.sum()\n",
        "print(\"\\n sum of counts is : \", sum_icd)\n",
        "\n",
        "percent = (icd_count / sum_icd) * 100\n",
        "print(\"\\n The percent of icd10 codes : \", percent)\n",
        "\n",
        "top_10 = percent.head(10)\n",
        "print(\"\\n top 10 percent of codes : \", top_10)"
      ],
      "metadata": {
        "colab": {
          "base_uri": "https://localhost:8080/"
        },
        "id": "naPm3vokf4Dp",
        "outputId": "94de6aad-b3d7-4538-cd34-24dacd8a3922"
      },
      "execution_count": null,
      "outputs": [
        {
          "output_type": "stream",
          "name": "stdout",
          "text": [
            "count of icd10 codes :  icd_code\n",
            "4019       97361\n",
            "2724       63875\n",
            "I10        51706\n",
            "E785       48581\n",
            "53081      46238\n",
            "           ...  \n",
            "S12250K        1\n",
            "S12250G        1\n",
            "S12250D        1\n",
            "S12250B        1\n",
            "S42416K        1\n",
            "Name: count, Length: 109282, dtype: int64\n",
            "\n",
            " max code :  4019\n",
            "\n",
            " short title :  Cholera due to vibrio cholerae\n",
            "\n",
            " sum of counts is :  4943974\n",
            "\n",
            " The percent of icd10 codes :  icd_code\n",
            "4019       1.969286\n",
            "2724       1.291977\n",
            "I10        1.045839\n",
            "E785       0.982631\n",
            "53081      0.935240\n",
            "             ...   \n",
            "S12250K    0.000020\n",
            "S12250G    0.000020\n",
            "S12250D    0.000020\n",
            "S12250B    0.000020\n",
            "S42416K    0.000020\n",
            "Name: count, Length: 109282, dtype: float64\n",
            "\n",
            " top 10 percent of codes :  icd_code\n",
            "4019      1.969286\n",
            "2724      1.291977\n",
            "I10       1.045839\n",
            "E785      0.982631\n",
            "53081     0.935240\n",
            "25000     0.829879\n",
            "Z87891    0.786675\n",
            "42731     0.711573\n",
            "311       0.700489\n",
            "4280      0.699781\n",
            "Name: count, dtype: float64\n"
          ]
        }
      ]
    },
    {
      "cell_type": "markdown",
      "source": [
        "تمرین 1 بخش 4"
      ],
      "metadata": {
        "id": "eopaNbZCh-ct"
      }
    },
    {
      "cell_type": "markdown",
      "source": [
        "این تمرین هم شبیه تمرین بخش دو است"
      ],
      "metadata": {
        "id": "4O4nweEPCGj9"
      }
    },
    {
      "cell_type": "code",
      "source": [
        "visited = merged_icd.groupby(\"hadm_id\")[\"icd_code\"].count()\n",
        "mean_visited = visited.mean()\n",
        "print(\"The mean of visited : \", mean_visited)"
      ],
      "metadata": {
        "colab": {
          "base_uri": "https://localhost:8080/"
        },
        "id": "erzLIe8MiBVv",
        "outputId": "ef4df665-a806-4c96-984e-b9f178cac2e8"
      },
      "execution_count": null,
      "outputs": [
        {
          "output_type": "stream",
          "name": "stdout",
          "text": [
            "The mean of visited :  11.280625365554762\n"
          ]
        }
      ]
    },
    {
      "cell_type": "markdown",
      "source": [
        "تمرین 1 بخش 5"
      ],
      "metadata": {
        "id": "9oF64IBHj28h"
      }
    },
    {
      "cell_type": "code",
      "source": [
        "print(\"The reason 1 : \")\n",
        "print(\"\\n تفاوت در بیماران : مثلا در لیست اول بیمارانی که مشکلات جدی تر دارند و اکثرا نیازمند به بستری در بیمارستان می باشند وجود دارد اما در لیست دوم همه بیماران چه عادی و چه خاص وجود دارند یعنی بیمارانی که نیاز به بستری دارند و یا بیمارانی که فقط برای چکاپ مراجعه می کنند.\")\n",
        "print(\"\\n The reason 2 : \")\n",
        "print(\"\\n تغییرات در کدهای ICD : لیست جدید به روزرسانی شده است و اطلاعات آن دقیق تر می باشد زیرا جامع است و اکثر بیماران را شامل می شود اما لیست اول و قدیمی تر شامل تعداد محدودی از بیماران خاص می باشد و نسبت به لیست جدید از دقت پایینی برخوردار است.\")"
      ],
      "metadata": {
        "colab": {
          "base_uri": "https://localhost:8080/"
        },
        "id": "xJQrOoZ2j5Jo",
        "outputId": "764e16d2-f2b2-4f06-b95d-5eb418ee2528"
      },
      "execution_count": null,
      "outputs": [
        {
          "output_type": "stream",
          "name": "stdout",
          "text": [
            "The reason 1 : \n",
            "\n",
            " تفاوت در بیماران : مثلا در لیست اول بیمارانی که مشکلات جدی تر دارند و اکثرا نیازمند به بستری در بیمارستان می باشند وجود دارد اما در لیست دوم همه بیماران چه عادی و چه خاص وجود دارند یعنی بیمارانی که نیاز به بستری دارند و یا بیمارانی که فقط برای چکاپ مراجعه می کنند.\n",
            "\n",
            " The reason 2 : \n",
            "\n",
            " تغییرات در کدهای ICD : لیست جدید به روزرسانی شده است و اطلاعات آن دقیق تر می باشد زیرا جامع است و اکثر بیماران را شامل می شود اما لیست اول و قدیمی تر شامل تعداد محدودی از بیماران خاص می باشد و نسبت به لیست جدید از دقت پایینی برخوردار است.\n"
          ]
        }
      ]
    },
    {
      "cell_type": "markdown",
      "source": [
        "تمرین 1 بخش 6"
      ],
      "metadata": {
        "id": "mUmWd1bYlySY"
      }
    },
    {
      "cell_type": "code",
      "source": [
        "print(\"code : ICD10\")\n",
        "print(\"\\n زیرا دقیق تر به روزتر و جامع تر می باشد.\")"
      ],
      "metadata": {
        "colab": {
          "base_uri": "https://localhost:8080/"
        },
        "id": "TCS0z74Bl0ot",
        "outputId": "d84b43a0-8236-446b-d53e-ebc164b8fdd4"
      },
      "execution_count": null,
      "outputs": [
        {
          "output_type": "stream",
          "name": "stdout",
          "text": [
            "code : ICD10\n",
            "\n",
            " زیرا دقیق تر به روزتر و جامع تر می باشد.\n"
          ]
        }
      ]
    },
    {
      "cell_type": "markdown",
      "source": [
        "تمرین 2"
      ],
      "metadata": {
        "id": "vGIHO6zDpzJY"
      }
    },
    {
      "cell_type": "code",
      "source": [
        "from google.colab import auth\n",
        "import numpy as np\n",
        "from sklearn.linear_model import LogisticRegression\n",
        "from sklearn.metrics import accuracy_score, roc_auc_score, roc_curve, confusion_matrix, f1_score\n",
        "from sklearn.preprocessing import StandardScaler\n",
        "import matplotlib.pyplot as plt\n",
        "from sklearn.feature_extraction.text import CountVectorizer"
      ],
      "metadata": {
        "id": "0JiEyWhtpyH5"
      },
      "execution_count": null,
      "outputs": []
    },
    {
      "cell_type": "code",
      "source": [
        "auth.authenticate_user()"
      ],
      "metadata": {
        "id": "AzQjNHi9rIgh"
      },
      "execution_count": null,
      "outputs": []
    },
    {
      "cell_type": "code",
      "source": [
        "from google.colab import auth\n",
        "auth.authenticate_user()"
      ],
      "metadata": {
        "id": "eIFhqIlFruo5"
      },
      "execution_count": null,
      "outputs": []
    },
    {
      "cell_type": "code",
      "source": [
        "!gsutil cp gs://mlhc2023/MIMIC_III_DIAGNOSES_ICD.csv ./\n",
        "!gsutil cp gs://mlhc2023/MIMIC_III_D_ICD_DIAGNOSES.csv ./\n",
        "!gsutil cp gs://mlhc2023/MIMIC_IV_d_icd_diagnoses.csv ./\n",
        "!gsutil cp gs://mlhc2023/MIMIC_IV_diagnoses_icd.csv ./"
      ],
      "metadata": {
        "colab": {
          "base_uri": "https://localhost:8080/"
        },
        "id": "jNF9UKM2qwLF",
        "outputId": "a8df7b5c-360c-4e9a-e644-a81183a55778"
      },
      "execution_count": null,
      "outputs": [
        {
          "output_type": "stream",
          "name": "stdout",
          "text": [
            "You are attempting to access protected data with no configured\n",
            "credentials. Please visit https://cloud.google.com/console#/project\n",
            "and sign up for an account, and then run the \"gcloud auth login\"\n",
            "command to configure gsutil to use these credentials.\n",
            "You are attempting to access protected data with no configured\n",
            "credentials. Please visit https://cloud.google.com/console#/project\n",
            "and sign up for an account, and then run the \"gcloud auth login\"\n",
            "command to configure gsutil to use these credentials.\n",
            "You are attempting to access protected data with no configured\n",
            "credentials. Please visit https://cloud.google.com/console#/project\n",
            "and sign up for an account, and then run the \"gcloud auth login\"\n",
            "command to configure gsutil to use these credentials.\n",
            "You are attempting to access protected data with no configured\n",
            "credentials. Please visit https://cloud.google.com/console#/project\n",
            "and sign up for an account, and then run the \"gcloud auth login\"\n",
            "command to configure gsutil to use these credentials.\n"
          ]
        }
      ]
    },
    {
      "cell_type": "code",
      "source": [
        "# Load the ICD codes to names CSVs.\n",
        "icd9_code_to_names = pd.read_csv(MIMIC_III_ICD_path)\n",
        "mimiv_iv_icd_to_name = pd.read_csv(MIMIC_IV_ICD_path)\n",
        "\n",
        "# Create a mapping of codes to names\n",
        "icd9_to_name = dict(zip(icd9_code_to_names.ICD9_CODE, icd9_code_to_names.LONG_TITLE))\n",
        "\n",
        "# Do the same for MIMIC_IV, but only consider ICD 10 codes.\n",
        "icd10_only = mimiv_iv_icd_to_name[mimiv_iv_icd_to_name['icd_version'] == 10]\n",
        "icd10_to_name = dict(zip(icd10_only.icd_code, icd10_only.long_title))"
      ],
      "metadata": {
        "id": "Zf5De_q9svPF"
      },
      "execution_count": null,
      "outputs": []
    },
    {
      "cell_type": "markdown",
      "source": [],
      "metadata": {
        "id": "0OL_A71I4HJJ"
      }
    },
    {
      "cell_type": "markdown",
      "source": [
        "تمرین 2 بخش 1"
      ],
      "metadata": {
        "id": "C0a1XrXe4L27"
      }
    },
    {
      "cell_type": "markdown",
      "source": [
        "با استفاده از دستور mean میانگین و با استفاده از دستور median میانه را پیدا می کنیم."
      ],
      "metadata": {
        "id": "FFLlgX0VbuZm"
      }
    },
    {
      "cell_type": "code",
      "source": [
        "stay_path = \"/content/drive/My Drive/datasetcolab/length_of_stay(light).csv\" # آدرس فایل\n",
        "stay_read = pd.read_csv(stay_path) # خواندن فایل در آدرس ذخیره شده\n",
        "\n",
        "mean_stay = stay_read[\"length_of_stay\"].mean() # محاسبه میانگین داده های موجود در ستون length_of_stay\n",
        "print(\"\\n The mean of stay length : \", mean_stay)\n",
        "\n",
        "median_stay = stay_read[\"length_of_stay\"].median() # محاسبه میانه داده های موجود در ستون length_of_stay\n",
        "print(\"\\n The median of stay length : \", median_stay)"
      ],
      "metadata": {
        "colab": {
          "base_uri": "https://localhost:8080/"
        },
        "id": "cAoG01d94mk-",
        "outputId": "5754dc16-92e8-494a-c333-bda02cea5c28"
      },
      "execution_count": null,
      "outputs": [
        {
          "output_type": "stream",
          "name": "stdout",
          "text": [
            "\n",
            " The mean of stay length :  12.719832720997774\n",
            "\n",
            " The median of stay length :  8.575\n"
          ]
        }
      ]
    },
    {
      "cell_type": "markdown",
      "source": [
        "تمرین 2 بخش 2"
      ],
      "metadata": {
        "id": "9-WxBV4w6d1x"
      }
    },
    {
      "cell_type": "markdown",
      "source": [
        "این کد نمودار طول مدت بستری بیماران در بیمارستان را نشان می دهد و بیشترین تعداد بستری بیماران را در یک بازه مشخص نمایش می دهد."
      ],
      "metadata": {
        "id": "M2wlT79cD_ZM"
      }
    },
    {
      "cell_type": "code",
      "source": [
        "range = [0, 1, 2, 3, 4, 5, 6, 7, 8, 9, 10, 11, 12, 13, 14] # بازه زمانی\n",
        "\n",
        "y, x = np.histogram(stay_read[\"length_of_stay\"], bins = range) # محاسبه تعداد داده های موجود در ستون length_of_stay ------> y : فراوانی (تعداد)     x : بازه\n",
        "\n",
        "plt.hist(stay_read[\"length_of_stay\"], bins = range, edgecolor = \"purple\", color = \"pink\") # رسم هیستوگرام داده های length_of_stay و بازه range و تعیین رنگ\n",
        "plt.title(\"Length of Stay\") # عنوان هیستوگرام\n",
        "plt.xlabel(\"days\") # برچسب محور x\n",
        "plt.ylabel(\"count\") # برچسب محور y\n",
        "plt.show() # نمایش نمودار\n",
        "\n",
        "max_range = np.argmax(y) # ایندکس بازه دارای بیشترین تعداد\n",
        "max_count = (x[max_range], x[max_range + 1]) # بازه زمانی که بیشترین تعداد را دارد\n",
        "\n",
        "print(\"\\n maximum range : \", max_count)\n",
        "print(\"\\n maximum count : \", y[max_range])"
      ],
      "metadata": {
        "colab": {
          "base_uri": "https://localhost:8080/",
          "height": 541
        },
        "id": "XnoYsVc86gwa",
        "outputId": "d2799773-4fd6-41ec-b9fb-33ba9c89154a"
      },
      "execution_count": null,
      "outputs": [
        {
          "output_type": "display_data",
          "data": {
            "text/plain": [
              "<Figure size 640x480 with 1 Axes>"
            ],
            "image/png": "[encoded data removed]"
          },
          "metadata": {}
        },
        {
          "output_type": "stream",
          "name": "stdout",
          "text": [
            "\n",
            " maximum range :  (3, 4)\n",
            "\n",
            " maximum count :  46\n"
          ]
        }
      ]
    },
    {
      "cell_type": "markdown",
      "source": [
        "تمرین 2 بخش 3"
      ],
      "metadata": {
        "id": "DjIoCY1U_FjR"
      }
    },
    {
      "cell_type": "code",
      "source": [
        "print(\"\\n The reason 1 : \")\n",
        "print(\"\\n در محاسبه میانگین با استفاده از کتابخانه آماده همه مقادیر در نظر گرفته می شود که شامل مقادیر پرت نیز می شود اما در رسم نمودار هیستوگرام مقادیر پرت در نظر گرفته نمی شود.\")"
      ],
      "metadata": {
        "colab": {
          "base_uri": "https://localhost:8080/"
        },
        "id": "5BZodlHD_KM3",
        "outputId": "f02d1ad9-d905-4ddf-ab24-e231c3b12670"
      },
      "execution_count": null,
      "outputs": [
        {
          "output_type": "stream",
          "name": "stdout",
          "text": [
            "\n",
            " The reason 1 : \n",
            "\n",
            " در محاسبه میانگین با استفاده از کتابخانه آماده همه مقادیر در نظر گرفته می شود که شامل مقادیر پرت نیز می شود اما در رسم نمودار هیستوگرام مقادیر پرت در نظر گرفته نمی شود.\n"
          ]
        }
      ]
    },
    {
      "cell_type": "markdown",
      "source": [
        "بخش یادگیری ماشین\n",
        "تمرین 2 بخش 1"
      ],
      "metadata": {
        "id": "WbMnAh3BAIOJ"
      }
    },
    {
      "cell_type": "markdown",
      "source": [
        "با استفاده از رگرسیوت لجستیک پیشبینی می کند که آیا مدت زمان بستری بیش از 7 روز است یا نه."
      ],
      "metadata": {
        "id": "YduS--t8G4SP"
      }
    },
    {
      "cell_type": "code",
      "source": [
        "stay_read[\"Target\"] = (stay_read[\"length_of_stay\"] > 7).astype(int) # ایجاد ستون جدید به نام Target بررسی میکنه هر مقدار از ستون length_of_stay بیشتر از 7 است یا نه اگر بیشتر بود مقدار 1 رو در ستون جدید قرار میشه اگه کمتر بود مقدار 0 قرار میده\n",
        "\n",
        "X = stay_read.drop(columns=[\"length_of_stay\", \"Target\"]) # حذف تمام ستون ها به جز length_of_stay و Target\n",
        "y = stay_read[\"Target\"] # output\n",
        "\n",
        "X_train, X_test, y_train, y_test = train_test_split(X, y, test_size = 0.3, train_size = 0.7) # تقسیم داده ها به دو بخش آموزش  و تست که 70% آموزشه و 30% تسته\n",
        "\n",
        "model = LogisticRegression(penalty='l2') # ساخت مدل و استفاده از l2\n",
        "model.fit(X_train, y_train) # آموزش مدل با 70% از داده ها\n",
        "\n",
        "y_out = model.predict(X_test) # پیشبینی 0 یا 1\n",
        "y_plus = model.predict_proba(X_test)[:, 1] # احتمال 1 بودن کلاس\n",
        "\n",
        "accuracy = accuracy_score(y_test, y_out) # محاسبه دقت مدل و درست بودن داده ها\n",
        "auc = roc_auc_score(y_test, y_plus) # سطح زیر منحنی ROC نشان دهنده کیفیت\n",
        "\n",
        "print(\"\\n AUC : \", auc)\n",
        "print(\"\\n Accuracy : \", accuracy)\n",
        "\n",
        "from sklearn.metrics import roc_curve\n",
        "FP, TP, _ = roc_curve(y_test, y_plus)\n",
        "\n",
        "plt.plot(FP, TP)\n",
        "plt.xlabel(\"False Positive Rate\")\n",
        "plt.ylabel(\"True Positive Rate\")\n",
        "plt.show()"
      ],
      "metadata": {
        "colab": {
          "base_uri": "https://localhost:8080/",
          "height": 657
        },
        "id": "qmeXgrzVAUlH",
        "outputId": "836d2b33-526b-48d6-fe0a-a7fab8a50b3d"
      },
      "execution_count": null,
      "outputs": [
        {
          "output_type": "stream",
          "name": "stderr",
          "text": [
            "/usr/local/lib/python3.10/dist-packages/sklearn/linear_model/_logistic.py:469: ConvergenceWarning: lbfgs failed to converge (status=1):\n",
            "STOP: TOTAL NO. of ITERATIONS REACHED LIMIT.\n",
            "\n",
            "Increase the number of iterations (max_iter) or scale the data as shown in:\n",
            "    https://scikit-learn.org/stable/modules/preprocessing.html\n",
            "Please also refer to the documentation for alternative solver options:\n",
            "    https://scikit-learn.org/stable/modules/linear_model.html#logistic-regression\n",
            "  n_iter_i = _check_optimize_result(\n"
          ]
        },
        {
          "output_type": "stream",
          "name": "stdout",
          "text": [
            "\n",
            " AUC :  0.5946915351506455\n",
            "\n",
            " Accuracy :  0.6133333333333333\n"
          ]
        },
        {
          "output_type": "display_data",
          "data": {
            "text/plain": [
              "<Figure size 640x480 with 1 Axes>"
            ],
            "image/png": "[encoded data removed]"
          },
          "metadata": {}
        }
      ]
    },
    {
      "cell_type": "markdown",
      "source": [
        "تمرین 2 بخش 2"
      ],
      "metadata": {
        "id": "CnwwwBN2NqY_"
      }
    },
    {
      "cell_type": "markdown",
      "source": [
        "محاسبه بیشترین دقت مدل"
      ],
      "metadata": {
        "id": "r6e3eM9KKU_1"
      }
    },
    {
      "cell_type": "code",
      "source": [
        "max_accuracy = max(y_test.mean(), 1 - y_test.mean()) # میانگین مقادیر کلاس 1 و 0 رو حساب میکنه و ماکزیمم مقدار رو به دست میاره\n",
        "print(\"\\n max accuracy : \", max_accuracy)"
      ],
      "metadata": {
        "colab": {
          "base_uri": "https://localhost:8080/"
        },
        "id": "zPgRqTzANpf4",
        "outputId": "572bd85d-3eb9-4ca0-fe28-987b992d37db"
      },
      "execution_count": null,
      "outputs": [
        {
          "output_type": "stream",
          "name": "stdout",
          "text": [
            "\n",
            " max accuracy :  0.5466666666666666\n"
          ]
        }
      ]
    }
  ],
  "metadata": {
    "colab": {
      "provenance": [],
      "authorship_tag": "ABX9TyOA3u6pQ2oxftzG65M2zQ+b",
      "include_colab_link": true
    },
    "kernelspec": {
      "display_name": "Python 3",
      "name": "python3"
    },
    "language_info": {
      "name": "python"
    }
  },
  "nbformat": 4,
  "nbformat_minor": 0
}